{
 "cells": [
  {
   "cell_type": "code",
   "execution_count": 1,
   "id": "e4d74afb-b0c8-49b1-bcdc-ba9086b9ab54",
   "metadata": {},
   "outputs": [
    {
     "name": "stdout",
     "output_type": "stream",
     "text": [
      "Accuracy of the model is  96.0 %\n"
     ]
    }
   ],
   "source": [
    "import pandas as pd\n",
    "import numpy as np\n",
    "\n",
    "# Read the csv File\n",
    "df = pd.read_csv(r\"C:\\Users\\Aarsh\\OneDrive\\Iris.csv\")\n",
    "\n",
    "# Remove Iris-setosa\n",
    "df = df[df['Id'] >= 51]\n",
    "\n",
    "# Map species to binary labels\n",
    "df['Species'] = df['Species'].map({'Iris-versicolor': 0, 'Iris-virginica': 1})\n",
    "\n",
    "# Extract features and labels\n",
    "X = df.iloc[:, 1:5].values\n",
    "Y = df.iloc[:, 5].values\n",
    "\n",
    "\n",
    "# Sigmoid function\n",
    "def sigmoid(z):\n",
    "    return 1 / (1 + np.exp(-z))\n",
    "\n",
    "# Gradient descent function\n",
    "def gradient_descent(X, Y, weights, learning_rate, max_iterations):\n",
    "    for i in range(max_iterations):\n",
    "        h = sigmoid(np.dot(X, weights))\n",
    "        grad = np.dot(X.T, (h - Y)) / len(Y)\n",
    "        weights -= learning_rate * grad\n",
    "    return weights\n",
    "\n",
    "# Initialize weights\n",
    "weights = np.zeros(4)\n",
    "\n",
    "\n",
    "learning_rate = 0.01\n",
    "max_iterations = 1000\n",
    "\n",
    "# Implementing gradient descent to find the point of minimum cost function\n",
    "weights = gradient_descent(X, Y, weights, learning_rate, max_iterations)\n",
    "\n",
    "# Predict function\n",
    "def predict(X, weights):\n",
    "    return (sigmoid(np.dot(X, weights)) >= 0.5).astype(int)\n",
    "\n",
    "# Predictions on the training set\n",
    "Y_1 = predict(X, weights)\n",
    "\n",
    "# Calculate accuracy\n",
    "accuracy = np.mean(Y_1 == Y) * 100\n",
    "print(\"Accuracy of the model is \",accuracy,\"%\")\n"
   ]
  },
  {
   "cell_type": "code",
   "execution_count": null,
   "id": "5f376f02-514e-47d9-abcf-fbb6b400aa1e",
   "metadata": {},
   "outputs": [],
   "source": []
  }
 ],
 "metadata": {
  "kernelspec": {
   "display_name": "Python 3 (ipykernel)",
   "language": "python",
   "name": "python3"
  },
  "language_info": {
   "codemirror_mode": {
    "name": "ipython",
    "version": 3
   },
   "file_extension": ".py",
   "mimetype": "text/x-python",
   "name": "python",
   "nbconvert_exporter": "python",
   "pygments_lexer": "ipython3",
   "version": "3.11.7"
  }
 },
 "nbformat": 4,
 "nbformat_minor": 5
}
